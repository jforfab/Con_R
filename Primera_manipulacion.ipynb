{
 "cells": [
  {
   "cell_type": "code",
   "execution_count": 1,
   "id": "9826a56f",
   "metadata": {},
   "outputs": [],
   "source": [
    "x = c(5, 7, 9, 13, -4, 8)"
   ]
  },
  {
   "cell_type": "code",
   "execution_count": 2,
   "id": "c4fcc154",
   "metadata": {},
   "outputs": [
    {
     "data": {
      "text/html": [
       "<ol class=list-inline>\n",
       "\t<li>8</li>\n",
       "\t<li>8</li>\n",
       "\t<li>8</li>\n",
       "\t<li>8</li>\n",
       "\t<li>8</li>\n",
       "\t<li>8</li>\n",
       "</ol>\n"
      ],
      "text/latex": [
       "\\begin{enumerate*}\n",
       "\\item 8\n",
       "\\item 8\n",
       "\\item 8\n",
       "\\item 8\n",
       "\\item 8\n",
       "\\item 8\n",
       "\\end{enumerate*}\n"
      ],
      "text/markdown": [
       "1. 8\n",
       "2. 8\n",
       "3. 8\n",
       "4. 8\n",
       "5. 8\n",
       "6. 8\n",
       "\n",
       "\n"
      ],
      "text/plain": [
       "[1] 8 8 8 8 8 8"
      ]
     },
     "metadata": {},
     "output_type": "display_data"
    }
   ],
   "source": [
    "rep(8, length(x))"
   ]
  },
  {
   "cell_type": "code",
   "execution_count": 3,
   "id": "271a8134",
   "metadata": {},
   "outputs": [
    {
     "data": {
      "text/html": [
       "<ol class=list-inline>\n",
       "\t<li>FALSE</li>\n",
       "\t<li>FALSE</li>\n",
       "\t<li>TRUE</li>\n",
       "\t<li>TRUE</li>\n",
       "\t<li>FALSE</li>\n",
       "\t<li>FALSE</li>\n",
       "</ol>\n"
      ],
      "text/latex": [
       "\\begin{enumerate*}\n",
       "\\item FALSE\n",
       "\\item FALSE\n",
       "\\item TRUE\n",
       "\\item TRUE\n",
       "\\item FALSE\n",
       "\\item FALSE\n",
       "\\end{enumerate*}\n"
      ],
      "text/markdown": [
       "1. FALSE\n",
       "2. FALSE\n",
       "3. TRUE\n",
       "4. TRUE\n",
       "5. FALSE\n",
       "6. FALSE\n",
       "\n",
       "\n"
      ],
      "text/plain": [
       "[1] FALSE FALSE  TRUE  TRUE FALSE FALSE"
      ]
     },
     "metadata": {},
     "output_type": "display_data"
    }
   ],
   "source": [
    "x>rep(8, length(x))"
   ]
  },
  {
   "cell_type": "code",
   "execution_count": 4,
   "id": "eb9ea785",
   "metadata": {},
   "outputs": [
    {
     "data": {
      "text/html": [
       "2"
      ],
      "text/latex": [
       "2"
      ],
      "text/markdown": [
       "2"
      ],
      "text/plain": [
       "[1] 2"
      ]
     },
     "metadata": {},
     "output_type": "display_data"
    }
   ],
   "source": [
    "sum(x>8)"
   ]
  },
  {
   "cell_type": "code",
   "execution_count": 5,
   "id": "21281ad0",
   "metadata": {},
   "outputs": [
    {
     "data": {
      "text/html": [
       "<ol class=list-inline>\n",
       "\t<li>FALSE</li>\n",
       "\t<li>FALSE</li>\n",
       "\t<li>TRUE</li>\n",
       "\t<li>TRUE</li>\n",
       "\t<li>FALSE</li>\n",
       "\t<li>FALSE</li>\n",
       "</ol>\n"
      ],
      "text/latex": [
       "\\begin{enumerate*}\n",
       "\\item FALSE\n",
       "\\item FALSE\n",
       "\\item TRUE\n",
       "\\item TRUE\n",
       "\\item FALSE\n",
       "\\item FALSE\n",
       "\\end{enumerate*}\n"
      ],
      "text/markdown": [
       "1. FALSE\n",
       "2. FALSE\n",
       "3. TRUE\n",
       "4. TRUE\n",
       "5. FALSE\n",
       "6. FALSE\n",
       "\n",
       "\n"
      ],
      "text/plain": [
       "[1] FALSE FALSE  TRUE  TRUE FALSE FALSE"
      ]
     },
     "metadata": {},
     "output_type": "display_data"
    }
   ],
   "source": [
    "x>8"
   ]
  },
  {
   "cell_type": "code",
   "execution_count": 6,
   "id": "5062f93d",
   "metadata": {},
   "outputs": [
    {
     "data": {
      "text/html": [
       "<ol class=list-inline>\n",
       "\t<li>9</li>\n",
       "\t<li>13</li>\n",
       "</ol>\n"
      ],
      "text/latex": [
       "\\begin{enumerate*}\n",
       "\\item 9\n",
       "\\item 13\n",
       "\\end{enumerate*}\n"
      ],
      "text/markdown": [
       "1. 9\n",
       "2. 13\n",
       "\n",
       "\n"
      ],
      "text/plain": [
       "[1]  9 13"
      ]
     },
     "metadata": {},
     "output_type": "display_data"
    }
   ],
   "source": [
    "largerthan8=x[x>8]\n",
    "largerthan8"
   ]
  },
  {
   "cell_type": "code",
   "execution_count": 7,
   "id": "d8fb6847",
   "metadata": {},
   "outputs": [],
   "source": [
    "A=matrix(x,2,3)"
   ]
  },
  {
   "cell_type": "code",
   "execution_count": 8,
   "id": "656b9118",
   "metadata": {},
   "outputs": [
    {
     "data": {
      "text/html": [
       "<table>\n",
       "<tbody>\n",
       "\t<tr><td>5 </td><td> 9</td><td>-4</td></tr>\n",
       "\t<tr><td>7 </td><td>13</td><td> 8</td></tr>\n",
       "</tbody>\n",
       "</table>\n"
      ],
      "text/latex": [
       "\\begin{tabular}{lll}\n",
       "\t 5  &  9 & -4\\\\\n",
       "\t 7  & 13 &  8\\\\\n",
       "\\end{tabular}\n"
      ],
      "text/markdown": [
       "\n",
       "| 5  |  9 | -4 |\n",
       "| 7  | 13 |  8 |\n",
       "\n"
      ],
      "text/plain": [
       "     [,1] [,2] [,3]\n",
       "[1,] 5     9   -4  \n",
       "[2,] 7    13    8  "
      ]
     },
     "metadata": {},
     "output_type": "display_data"
    }
   ],
   "source": [
    "A"
   ]
  },
  {
   "cell_type": "code",
   "execution_count": 9,
   "id": "64403f16",
   "metadata": {},
   "outputs": [
    {
     "data": {
      "text/html": [
       "TRUE"
      ],
      "text/latex": [
       "TRUE"
      ],
      "text/markdown": [
       "TRUE"
      ],
      "text/plain": [
       "[1] TRUE"
      ]
     },
     "metadata": {},
     "output_type": "display_data"
    }
   ],
   "source": [
    "is.matrix(A)"
   ]
  },
  {
   "cell_type": "code",
   "execution_count": 10,
   "id": "23335c26",
   "metadata": {},
   "outputs": [
    {
     "data": {
      "text/html": [
       "5"
      ],
      "text/latex": [
       "5"
      ],
      "text/markdown": [
       "5"
      ],
      "text/plain": [
       "[1] 5"
      ]
     },
     "metadata": {},
     "output_type": "display_data"
    }
   ],
   "source": [
    "A[1,1]"
   ]
  },
  {
   "cell_type": "code",
   "execution_count": 11,
   "id": "e7880439",
   "metadata": {},
   "outputs": [
    {
     "data": {
      "text/html": [],
      "text/latex": [],
      "text/markdown": [],
      "text/plain": [
       "numeric(0)"
      ]
     },
     "metadata": {},
     "output_type": "display_data"
    }
   ],
   "source": [
    "A[0,1]"
   ]
  },
  {
   "cell_type": "code",
   "execution_count": 13,
   "id": "8f2fcd4c",
   "metadata": {},
   "outputs": [
    {
     "data": {
      "text/html": [
       "<ol class=list-inline>\n",
       "\t<li>11</li>\n",
       "\t<li>11</li>\n",
       "\t<li>11</li>\n",
       "\t<li>11</li>\n",
       "\t<li>11</li>\n",
       "\t<li>11</li>\n",
       "</ol>\n"
      ],
      "text/latex": [
       "\\begin{enumerate*}\n",
       "\\item 11\n",
       "\\item 11\n",
       "\\item 11\n",
       "\\item 11\n",
       "\\item 11\n",
       "\\item 11\n",
       "\\end{enumerate*}\n"
      ],
      "text/markdown": [
       "1. 11\n",
       "2. 11\n",
       "3. 11\n",
       "4. 11\n",
       "5. 11\n",
       "6. 11\n",
       "\n",
       "\n"
      ],
      "text/plain": [
       "[1] 11 11 11 11 11 11"
      ]
     },
     "metadata": {},
     "output_type": "display_data"
    }
   ],
   "source": [
    "y=rep(11,length(x))\n",
    "y"
   ]
  },
  {
   "cell_type": "code",
   "execution_count": 14,
   "id": "a7637224",
   "metadata": {},
   "outputs": [
    {
     "data": {
      "text/html": [
       "<table>\n",
       "<thead><tr><th scope=col>x</th><th scope=col>y</th></tr></thead>\n",
       "<tbody>\n",
       "\t<tr><td> 5</td><td>11</td></tr>\n",
       "\t<tr><td> 7</td><td>11</td></tr>\n",
       "\t<tr><td> 9</td><td>11</td></tr>\n",
       "\t<tr><td>13</td><td>11</td></tr>\n",
       "\t<tr><td>-4</td><td>11</td></tr>\n",
       "\t<tr><td> 8</td><td>11</td></tr>\n",
       "</tbody>\n",
       "</table>\n"
      ],
      "text/latex": [
       "\\begin{tabular}{r|ll}\n",
       " x & y\\\\\n",
       "\\hline\n",
       "\t  5 & 11\\\\\n",
       "\t  7 & 11\\\\\n",
       "\t  9 & 11\\\\\n",
       "\t 13 & 11\\\\\n",
       "\t -4 & 11\\\\\n",
       "\t  8 & 11\\\\\n",
       "\\end{tabular}\n"
      ],
      "text/markdown": [
       "\n",
       "| x | y |\n",
       "|---|---|\n",
       "|  5 | 11 |\n",
       "|  7 | 11 |\n",
       "|  9 | 11 |\n",
       "| 13 | 11 |\n",
       "| -4 | 11 |\n",
       "|  8 | 11 |\n",
       "\n"
      ],
      "text/plain": [
       "  x  y \n",
       "1  5 11\n",
       "2  7 11\n",
       "3  9 11\n",
       "4 13 11\n",
       "5 -4 11\n",
       "6  8 11"
      ]
     },
     "metadata": {},
     "output_type": "display_data"
    }
   ],
   "source": [
    "ds=data.frame(x,y)\n",
    "ds"
   ]
  },
  {
   "cell_type": "code",
   "execution_count": 15,
   "id": "6c6b7fb3",
   "metadata": {},
   "outputs": [
    {
     "data": {
      "text/html": [
       "TRUE"
      ],
      "text/latex": [
       "TRUE"
      ],
      "text/markdown": [
       "TRUE"
      ],
      "text/plain": [
       "[1] TRUE"
      ]
     },
     "metadata": {},
     "output_type": "display_data"
    }
   ],
   "source": [
    " is.data.frame(ds)"
   ]
  },
  {
   "cell_type": "code",
   "execution_count": 16,
   "id": "e25fb144",
   "metadata": {},
   "outputs": [
    {
     "data": {
      "text/html": [
       "9"
      ],
      "text/latex": [
       "9"
      ],
      "text/markdown": [
       "9"
      ],
      "text/plain": [
       "[1] 9"
      ]
     },
     "metadata": {},
     "output_type": "display_data"
    }
   ],
   "source": [
    "ds$x[3]"
   ]
  },
  {
   "cell_type": "code",
   "execution_count": 17,
   "id": "01faa923",
   "metadata": {},
   "outputs": [
    {
     "data": {
      "text/html": [
       "11"
      ],
      "text/latex": [
       "11"
      ],
      "text/markdown": [
       "11"
      ],
      "text/plain": [
       "[1] 11"
      ]
     },
     "metadata": {},
     "output_type": "display_data"
    }
   ],
   "source": [
    "ds$y[3]"
   ]
  },
  {
   "cell_type": "code",
   "execution_count": 18,
   "id": "6fc0c95b",
   "metadata": {},
   "outputs": [
    {
     "name": "stderr",
     "output_type": "stream",
     "text": [
      "Warning message in mean.default(ds):\n",
      "\"argument is not numeric or logical: returning NA\""
     ]
    },
    {
     "data": {
      "text/html": [
       "&lt;NA&gt;"
      ],
      "text/latex": [
       "<NA>"
      ],
      "text/markdown": [
       "&lt;NA&gt;"
      ],
      "text/plain": [
       "[1] NA"
      ]
     },
     "metadata": {},
     "output_type": "display_data"
    }
   ],
   "source": [
    "mean(ds)"
   ]
  },
  {
   "cell_type": "code",
   "execution_count": 19,
   "id": "3d31bdf2",
   "metadata": {},
   "outputs": [
    {
     "data": {
      "text/html": [
       "<dl>\n",
       "\t<dt>$x</dt>\n",
       "\t\t<dd>6.33333333333333</dd>\n",
       "\t<dt>$y</dt>\n",
       "\t\t<dd>11</dd>\n",
       "</dl>\n"
      ],
      "text/latex": [
       "\\begin{description}\n",
       "\\item[\\$x] 6.33333333333333\n",
       "\\item[\\$y] 11\n",
       "\\end{description}\n"
      ],
      "text/markdown": [
       "$x\n",
       ":   6.33333333333333\n",
       "$y\n",
       ":   11\n",
       "\n",
       "\n"
      ],
      "text/plain": [
       "$x\n",
       "[1] 6.333333\n",
       "\n",
       "$y\n",
       "[1] 11\n"
      ]
     },
     "metadata": {},
     "output_type": "display_data"
    }
   ],
   "source": [
    "lapply(ds,mean)"
   ]
  },
  {
   "cell_type": "code",
   "execution_count": 21,
   "id": "609e5af9",
   "metadata": {},
   "outputs": [
    {
     "name": "stdout",
     "output_type": "stream",
     "text": [
      "$x\n",
      "[1] 5.715476\n",
      "\n",
      "$y\n",
      "[1] 0\n",
      "\n"
     ]
    }
   ],
   "source": [
    "print(lapply(ds,sd))"
   ]
  },
  {
   "cell_type": "code",
   "execution_count": 24,
   "id": "16e9acc5",
   "metadata": {},
   "outputs": [
    {
     "data": {
      "text/html": [
       "<table>\n",
       "<thead><tr><th scope=col>x</th><th scope=col>y</th></tr></thead>\n",
       "<tbody>\n",
       "\t<tr><td> 5</td><td>11</td></tr>\n",
       "\t<tr><td> 7</td><td>11</td></tr>\n",
       "\t<tr><td> 9</td><td>11</td></tr>\n",
       "\t<tr><td>13</td><td>11</td></tr>\n",
       "\t<tr><td>-4</td><td>11</td></tr>\n",
       "\t<tr><td> 8</td><td>11</td></tr>\n",
       "</tbody>\n",
       "</table>\n"
      ],
      "text/latex": [
       "\\begin{tabular}{ll}\n",
       " x & y\\\\\n",
       "\\hline\n",
       "\t  5 & 11\\\\\n",
       "\t  7 & 11\\\\\n",
       "\t  9 & 11\\\\\n",
       "\t 13 & 11\\\\\n",
       "\t -4 & 11\\\\\n",
       "\t  8 & 11\\\\\n",
       "\\end{tabular}\n"
      ],
      "text/markdown": [
       "\n",
       "| x | y |\n",
       "|---|---|\n",
       "|  5 | 11 |\n",
       "|  7 | 11 |\n",
       "|  9 | 11 |\n",
       "| 13 | 11 |\n",
       "| -4 | 11 |\n",
       "|  8 | 11 |\n",
       "\n"
      ],
      "text/plain": [
       "     x  y \n",
       "[1,]  5 11\n",
       "[2,]  7 11\n",
       "[3,]  9 11\n",
       "[4,] 13 11\n",
       "[5,] -4 11\n",
       "[6,]  8 11"
      ]
     },
     "metadata": {},
     "output_type": "display_data"
    }
   ],
   "source": [
    "newmat=cbind(x,y)\n",
    "newmat"
   ]
  },
  {
   "cell_type": "code",
   "execution_count": 25,
   "id": "6fb83488",
   "metadata": {},
   "outputs": [
    {
     "data": {
      "text/html": [
       "'matrix'"
      ],
      "text/latex": [
       "'matrix'"
      ],
      "text/markdown": [
       "'matrix'"
      ],
      "text/plain": [
       "[1] \"matrix\""
      ]
     },
     "metadata": {},
     "output_type": "display_data"
    }
   ],
   "source": [
    "class(newmat)"
   ]
  },
  {
   "cell_type": "code",
   "execution_count": 26,
   "id": "d3b3ab86",
   "metadata": {},
   "outputs": [
    {
     "data": {
      "text/html": [
       "<ol class=list-inline>\n",
       "\t<li>'A'</li>\n",
       "\t<li>'ds'</li>\n",
       "\t<li>'largerthan8'</li>\n",
       "\t<li>'newmat'</li>\n",
       "\t<li>'x'</li>\n",
       "\t<li>'y'</li>\n",
       "</ol>\n"
      ],
      "text/latex": [
       "\\begin{enumerate*}\n",
       "\\item 'A'\n",
       "\\item 'ds'\n",
       "\\item 'largerthan8'\n",
       "\\item 'newmat'\n",
       "\\item 'x'\n",
       "\\item 'y'\n",
       "\\end{enumerate*}\n"
      ],
      "text/markdown": [
       "1. 'A'\n",
       "2. 'ds'\n",
       "3. 'largerthan8'\n",
       "4. 'newmat'\n",
       "5. 'x'\n",
       "6. 'y'\n",
       "\n",
       "\n"
      ],
      "text/plain": [
       "[1] \"A\"           \"ds\"          \"largerthan8\" \"newmat\"      \"x\"          \n",
       "[6] \"y\"          "
      ]
     },
     "metadata": {},
     "output_type": "display_data"
    }
   ],
   "source": [
    "objects()"
   ]
  },
  {
   "cell_type": "code",
   "execution_count": 27,
   "id": "f008c119",
   "metadata": {},
   "outputs": [
    {
     "data": {
      "text/html": [
       "<ol class=list-inline>\n",
       "\t<li>'A'</li>\n",
       "\t<li>'ds'</li>\n",
       "\t<li>'largerthan8'</li>\n",
       "\t<li>'newmat'</li>\n",
       "\t<li>'x'</li>\n",
       "\t<li>'y'</li>\n",
       "</ol>\n"
      ],
      "text/latex": [
       "\\begin{enumerate*}\n",
       "\\item 'A'\n",
       "\\item 'ds'\n",
       "\\item 'largerthan8'\n",
       "\\item 'newmat'\n",
       "\\item 'x'\n",
       "\\item 'y'\n",
       "\\end{enumerate*}\n"
      ],
      "text/markdown": [
       "1. 'A'\n",
       "2. 'ds'\n",
       "3. 'largerthan8'\n",
       "4. 'newmat'\n",
       "5. 'x'\n",
       "6. 'y'\n",
       "\n",
       "\n"
      ],
      "text/plain": [
       "[1] \"A\"           \"ds\"          \"largerthan8\" \"newmat\"      \"x\"          \n",
       "[6] \"y\"          "
      ]
     },
     "metadata": {},
     "output_type": "display_data"
    }
   ],
   "source": [
    "ls()"
   ]
  },
  {
   "cell_type": "code",
   "execution_count": 29,
   "id": "adae597a",
   "metadata": {},
   "outputs": [
    {
     "data": {
      "text/plain": [
       "   Min. 1st Qu.  Median    Mean 3rd Qu.    Max. \n",
       " -4.000   5.500   7.500   6.333   8.750  13.000 "
      ]
     },
     "metadata": {},
     "output_type": "display_data"
    }
   ],
   "source": [
    "summary(x)"
   ]
  },
  {
   "cell_type": "code",
   "execution_count": 30,
   "id": "457abd45",
   "metadata": {},
   "outputs": [
    {
     "data": {
      "text/html": [
       "<strong>$dim</strong> = <ol class=list-inline>\n",
       "\t<li>2</li>\n",
       "\t<li>3</li>\n",
       "</ol>\n"
      ],
      "text/latex": [
       "\\textbf{\\$dim} = \\begin{enumerate*}\n",
       "\\item 2\n",
       "\\item 3\n",
       "\\end{enumerate*}\n"
      ],
      "text/markdown": [
       "**$dim** = 1. 2\n",
       "2. 3\n",
       "\n",
       "\n"
      ],
      "text/plain": [
       "$dim\n",
       "[1] 2 3\n"
      ]
     },
     "metadata": {},
     "output_type": "display_data"
    }
   ],
   "source": [
    "attributes(A)"
   ]
  },
  {
   "cell_type": "code",
   "execution_count": 31,
   "id": "3142ae4f",
   "metadata": {},
   "outputs": [
    {
     "data": {
      "text/plain": [
       "       V1            V2           V3    \n",
       " Min.   :5.0   Min.   : 9   Min.   :-4  \n",
       " 1st Qu.:5.5   1st Qu.:10   1st Qu.:-1  \n",
       " Median :6.0   Median :11   Median : 2  \n",
       " Mean   :6.0   Mean   :11   Mean   : 2  \n",
       " 3rd Qu.:6.5   3rd Qu.:12   3rd Qu.: 5  \n",
       " Max.   :7.0   Max.   :13   Max.   : 8  "
      ]
     },
     "metadata": {},
     "output_type": "display_data"
    }
   ],
   "source": [
    "summary(A)"
   ]
  },
  {
   "cell_type": "code",
   "execution_count": 34,
   "id": "18b51cff",
   "metadata": {},
   "outputs": [
    {
     "data": {
      "text/html": [
       "'double'"
      ],
      "text/latex": [
       "'double'"
      ],
      "text/markdown": [
       "'double'"
      ],
      "text/plain": [
       "[1] \"double\""
      ]
     },
     "metadata": {},
     "output_type": "display_data"
    }
   ],
   "source": [
    "typeof(A)"
   ]
  },
  {
   "cell_type": "code",
   "execution_count": 35,
   "id": "2099cc3f",
   "metadata": {},
   "outputs": [
    {
     "data": {
      "text/html": [
       "'double'"
      ],
      "text/latex": [
       "'double'"
      ],
      "text/markdown": [
       "'double'"
      ],
      "text/plain": [
       "[1] \"double\""
      ]
     },
     "metadata": {},
     "output_type": "display_data"
    }
   ],
   "source": [
    "typeof(x)"
   ]
  },
  {
   "cell_type": "code",
   "execution_count": 37,
   "id": "7c3ff5a2",
   "metadata": {},
   "outputs": [
    {
     "data": {
      "text/html": [
       "<dl class=dl-horizontal>\n",
       "\t<dt>0%</dt>\n",
       "\t\t<dd>-3.58320820174192</dd>\n",
       "\t<dt>25%</dt>\n",
       "\t\t<dd>-0.641069847483279</dd>\n",
       "\t<dt>50%</dt>\n",
       "\t\t<dd>0.00834561864118569</dd>\n",
       "\t<dt>75%</dt>\n",
       "\t\t<dd>0.611044487574895</dd>\n",
       "\t<dt>100%</dt>\n",
       "\t\t<dd>3.11714090127167</dd>\n",
       "</dl>\n"
      ],
      "text/latex": [
       "\\begin{description*}\n",
       "\\item[0\\textbackslash{}\\%] -3.58320820174192\n",
       "\\item[25\\textbackslash{}\\%] -0.641069847483279\n",
       "\\item[50\\textbackslash{}\\%] 0.00834561864118569\n",
       "\\item[75\\textbackslash{}\\%] 0.611044487574895\n",
       "\\item[100\\textbackslash{}\\%] 3.11714090127167\n",
       "\\end{description*}\n"
      ],
      "text/markdown": [
       "0%\n",
       ":   -3.5832082017419225%\n",
       ":   -0.64106984748327950%\n",
       ":   0.0083456186411856975%\n",
       ":   0.611044487574895100%\n",
       ":   3.11714090127167\n",
       "\n"
      ],
      "text/plain": [
       "          0%          25%          50%          75%         100% \n",
       "-3.583208202 -0.641069847  0.008345619  0.611044488  3.117140901 "
      ]
     },
     "metadata": {},
     "output_type": "display_data"
    }
   ],
   "source": [
    "vals=rnorm(1000)\n",
    "quantile(vals)"
   ]
  },
  {
   "cell_type": "code",
   "execution_count": 38,
   "id": "da5e9b6a",
   "metadata": {},
   "outputs": [
    {
     "data": {
      "text/html": [
       "<dl class=dl-horizontal>\n",
       "\t<dt>2.5%</dt>\n",
       "\t\t<dd>-2.15462961021475</dd>\n",
       "\t<dt>97.5%</dt>\n",
       "\t\t<dd>1.74686629380533</dd>\n",
       "</dl>\n"
      ],
      "text/latex": [
       "\\begin{description*}\n",
       "\\item[2.5\\textbackslash{}\\%] -2.15462961021475\n",
       "\\item[97.5\\textbackslash{}\\%] 1.74686629380533\n",
       "\\end{description*}\n"
      ],
      "text/markdown": [
       "2.5%\n",
       ":   -2.1546296102147597.5%\n",
       ":   1.74686629380533\n",
       "\n"
      ],
      "text/plain": [
       "     2.5%     97.5% \n",
       "-2.154630  1.746866 "
      ]
     },
     "metadata": {},
     "output_type": "display_data"
    }
   ],
   "source": [
    "quantile(vals, c(.025, .975))"
   ]
  },
  {
   "cell_type": "code",
   "execution_count": 39,
   "id": "de93d3ac",
   "metadata": {},
   "outputs": [
    {
     "data": {
      "text/html": [
       "<strong>2.5%:</strong> -2.15462961021475"
      ],
      "text/latex": [
       "\\textbf{2.5\\textbackslash{}\\%:} -2.15462961021475"
      ],
      "text/markdown": [
       "**2.5%:** -2.15462961021475"
      ],
      "text/plain": [
       "    2.5% \n",
       "-2.15463 "
      ]
     },
     "metadata": {},
     "output_type": "display_data"
    }
   ],
   "source": [
    "res=quantile(vals, c(.025, .975))\n",
    "res[1]"
   ]
  },
  {
   "cell_type": "code",
   "execution_count": 42,
   "id": "f71b0d1d",
   "metadata": {},
   "outputs": [],
   "source": [
    "# calculate a t confidence interval for a mean\n",
    "ci.calc = function(x, ci.conf=.95) {\n",
    "    sampsize = length(x)\n",
    "    tcrit = qt(1-((1-ci.conf)/2), sampsize-1)\n",
    "    mymean = mean(x)\n",
    "    mysd = sd(x)\n",
    "    return(list(civals=c(mymean-tcrit*mysd/sqrt(sampsize),\n",
    "            mymean+tcrit*mysd/sqrt(sampsize)),\n",
    "            ci.conf=ci.conf))\n",
    "}"
   ]
  },
  {
   "cell_type": "code",
   "execution_count": 41,
   "id": "a930ffd3",
   "metadata": {},
   "outputs": [
    {
     "data": {
      "text/html": [
       "<dl>\n",
       "\t<dt>$civals</dt>\n",
       "\t\t<dd><ol class=list-inline>\n",
       "\t<li>0.623872347328406</li>\n",
       "\t<li>12.0427943193383</li>\n",
       "</ol>\n",
       "</dd>\n",
       "\t<dt>$ci.conf</dt>\n",
       "\t\t<dd>0.95</dd>\n",
       "</dl>\n"
      ],
      "text/latex": [
       "\\begin{description}\n",
       "\\item[\\$civals] \\begin{enumerate*}\n",
       "\\item 0.623872347328406\n",
       "\\item 12.0427943193383\n",
       "\\end{enumerate*}\n",
       "\n",
       "\\item[\\$ci.conf] 0.95\n",
       "\\end{description}\n"
      ],
      "text/markdown": [
       "$civals\n",
       ":   1. 0.623872347328406\n",
       "2. 12.0427943193383\n",
       "\n",
       "\n",
       "\n",
       "$ci.conf\n",
       ":   0.95\n",
       "\n",
       "\n"
      ],
      "text/plain": [
       "$civals\n",
       "[1]  0.6238723 12.0427943\n",
       "\n",
       "$ci.conf\n",
       "[1] 0.95\n"
      ]
     },
     "metadata": {},
     "output_type": "display_data"
    }
   ],
   "source": [
    "ci.calc(x)"
   ]
  },
  {
   "cell_type": "code",
   "execution_count": 43,
   "id": "a2a0c1c4",
   "metadata": {},
   "outputs": [
    {
     "data": {
      "text/html": [
       "<dl>\n",
       "\t<dt>$civals</dt>\n",
       "\t\t<dd><ol class=list-inline>\n",
       "\t<li>0.335309050181934</li>\n",
       "\t<li>12.3313576164847</li>\n",
       "</ol>\n",
       "</dd>\n",
       "\t<dt>$ci.conf</dt>\n",
       "\t\t<dd>0.95</dd>\n",
       "</dl>\n"
      ],
      "text/latex": [
       "\\begin{description}\n",
       "\\item[\\$civals] \\begin{enumerate*}\n",
       "\\item 0.335309050181934\n",
       "\\item 12.3313576164847\n",
       "\\end{enumerate*}\n",
       "\n",
       "\\item[\\$ci.conf] 0.95\n",
       "\\end{description}\n"
      ],
      "text/markdown": [
       "$civals\n",
       ":   1. 0.335309050181934\n",
       "2. 12.3313576164847\n",
       "\n",
       "\n",
       "\n",
       "$ci.conf\n",
       ":   0.95\n",
       "\n",
       "\n"
      ],
      "text/plain": [
       "$civals\n",
       "[1]  0.3353091 12.3313576\n",
       "\n",
       "$ci.conf\n",
       "[1] 0.95\n"
      ]
     },
     "metadata": {},
     "output_type": "display_data"
    }
   ],
   "source": [
    "ci.calc(x)"
   ]
  },
  {
   "cell_type": "code",
   "execution_count": 44,
   "id": "fd60e149",
   "metadata": {},
   "outputs": [],
   "source": [
    "# calculate a t confidence interval for a mean\n",
    "'''ci.calc = function(x, ci.conf=.95) {\n",
    "    sampsize = length(x)\n",
    "    tcrit = qt(1-((1-ci.conf)/2), sampsize)\n",
    "    mymean = mean(x)\n",
    "    mysd = sd(x)\n",
    "    return(list(civals=c(mymean-tcrit*mysd/sqrt(sampsize),\n",
    "            mymean+tcrit*mysd/sqrt(sampsize)),\n",
    "            ci.conf=ci.conf))\n",
    "}'''\n",
    "#importante el detalle del tamaño muestral el cual en el caso de la dsitribucón t student\n",
    "#va a ser modificado a \n",
    "#la hora de calcular los cuantiles por n-1"
   ]
  },
  {
   "cell_type": "code",
   "execution_count": 45,
   "id": "e80e07e9",
   "metadata": {},
   "outputs": [],
   "source": [
    "lci = ci.calc(x)$civals[1]"
   ]
  },
  {
   "cell_type": "code",
   "execution_count": 46,
   "id": "f96a7d3b",
   "metadata": {},
   "outputs": [
    {
     "data": {
      "text/html": [
       "0.623872347328406"
      ],
      "text/latex": [
       "0.623872347328406"
      ],
      "text/markdown": [
       "0.623872347328406"
      ],
      "text/plain": [
       "[1] 0.6238723"
      ]
     },
     "metadata": {},
     "output_type": "display_data"
    }
   ],
   "source": [
    "lci"
   ]
  },
  {
   "cell_type": "code",
   "execution_count": 47,
   "id": "bd1b0b01",
   "metadata": {},
   "outputs": [
    {
     "data": {
      "text/html": [
       "<dl class=dl-horizontal>\n",
       "\t<dt>x</dt>\n",
       "\t\t<dd>6.33333333333333</dd>\n",
       "\t<dt>y</dt>\n",
       "\t\t<dd>11</dd>\n",
       "</dl>\n"
      ],
      "text/latex": [
       "\\begin{description*}\n",
       "\\item[x] 6.33333333333333\n",
       "\\item[y] 11\n",
       "\\end{description*}\n"
      ],
      "text/markdown": [
       "x\n",
       ":   6.33333333333333y\n",
       ":   11\n",
       "\n"
      ],
      "text/plain": [
       "        x         y \n",
       " 6.333333 11.000000 "
      ]
     },
     "metadata": {},
     "output_type": "display_data"
    }
   ],
   "source": [
    "apply(ds,2, mean)#media por columnas"
   ]
  },
  {
   "cell_type": "code",
   "execution_count": 48,
   "id": "a53e8fa3",
   "metadata": {},
   "outputs": [
    {
     "data": {
      "text/html": [
       "<ol class=list-inline>\n",
       "\t<li>8</li>\n",
       "\t<li>9</li>\n",
       "\t<li>10</li>\n",
       "\t<li>12</li>\n",
       "\t<li>3.5</li>\n",
       "\t<li>9.5</li>\n",
       "</ol>\n"
      ],
      "text/latex": [
       "\\begin{enumerate*}\n",
       "\\item 8\n",
       "\\item 9\n",
       "\\item 10\n",
       "\\item 12\n",
       "\\item 3.5\n",
       "\\item 9.5\n",
       "\\end{enumerate*}\n"
      ],
      "text/markdown": [
       "1. 8\n",
       "2. 9\n",
       "3. 10\n",
       "4. 12\n",
       "5. 3.5\n",
       "6. 9.5\n",
       "\n",
       "\n"
      ],
      "text/plain": [
       "[1]  8.0  9.0 10.0 12.0  3.5  9.5"
      ]
     },
     "metadata": {},
     "output_type": "display_data"
    }
   ],
   "source": [
    "apply(ds,1, mean)#media por filas"
   ]
  },
  {
   "cell_type": "code",
   "execution_count": 49,
   "id": "9cfb6062",
   "metadata": {},
   "outputs": [
    {
     "data": {
      "text/html": [
       "<table>\n",
       "<thead><tr><th scope=col>x</th><th scope=col>y</th></tr></thead>\n",
       "<tbody>\n",
       "\t<tr><td> 5</td><td>11</td></tr>\n",
       "\t<tr><td> 7</td><td>11</td></tr>\n",
       "\t<tr><td> 9</td><td>11</td></tr>\n",
       "\t<tr><td>13</td><td>11</td></tr>\n",
       "\t<tr><td>-4</td><td>11</td></tr>\n",
       "\t<tr><td> 8</td><td>11</td></tr>\n",
       "</tbody>\n",
       "</table>\n"
      ],
      "text/latex": [
       "\\begin{tabular}{r|ll}\n",
       " x & y\\\\\n",
       "\\hline\n",
       "\t  5 & 11\\\\\n",
       "\t  7 & 11\\\\\n",
       "\t  9 & 11\\\\\n",
       "\t 13 & 11\\\\\n",
       "\t -4 & 11\\\\\n",
       "\t  8 & 11\\\\\n",
       "\\end{tabular}\n"
      ],
      "text/markdown": [
       "\n",
       "| x | y |\n",
       "|---|---|\n",
       "|  5 | 11 |\n",
       "|  7 | 11 |\n",
       "|  9 | 11 |\n",
       "| 13 | 11 |\n",
       "| -4 | 11 |\n",
       "|  8 | 11 |\n",
       "\n"
      ],
      "text/plain": [
       "  x  y \n",
       "1  5 11\n",
       "2  7 11\n",
       "3  9 11\n",
       "4 13 11\n",
       "5 -4 11\n",
       "6  8 11"
      ]
     },
     "metadata": {},
     "output_type": "display_data"
    }
   ],
   "source": [
    "ds"
   ]
  },
  {
   "cell_type": "code",
   "execution_count": 51,
   "id": "e8ce7e3f",
   "metadata": {},
   "outputs": [
    {
     "ename": "ERROR",
     "evalue": "Error in library(read1): there is no package called 'read1'\n",
     "output_type": "error",
     "traceback": [
      "Error in library(read1): there is no package called 'read1'\nTraceback:\n",
      "1. library(read1)"
     ]
    }
   ],
   "source": [
    "library(read1)"
   ]
  },
  {
   "cell_type": "code",
   "execution_count": 52,
   "id": "d066034c",
   "metadata": {},
   "outputs": [
    {
     "name": "stderr",
     "output_type": "stream",
     "text": [
      "Loading required package: packagename\n",
      "Warning message in library(package, lib.loc = lib.loc, character.only = TRUE, logical.return = TRUE, :\n",
      "\"there is no package called 'packagename'\""
     ]
    }
   ],
   "source": [
    "require(packagename)"
   ]
  },
  {
   "cell_type": "code",
   "execution_count": 53,
   "id": "2b42fa06",
   "metadata": {},
   "outputs": [
    {
     "ename": "ERROR",
     "evalue": "Error in parse(text = x, srcfile = src): <text>:1:29: inesperado ')'\n1:  library(help=\"libraryname\"))\n                                ^\n",
     "output_type": "error",
     "traceback": [
      "Error in parse(text = x, srcfile = src): <text>:1:29: inesperado ')'\n1:  library(help=\"libraryname\"))\n                                ^\nTraceback:\n"
     ]
    }
   ],
   "source": [
    " library(help=\"libraryname\"))"
   ]
  },
  {
   "cell_type": "code",
   "execution_count": 54,
   "id": "2715b5a2",
   "metadata": {},
   "outputs": [
    {
     "ename": "ERROR",
     "evalue": "Error in library(Hmisc): there is no package called 'Hmisc'\n",
     "output_type": "error",
     "traceback": [
      "Error in library(Hmisc): there is no package called 'Hmisc'\nTraceback:\n",
      "1. library(Hmisc)"
     ]
    }
   ],
   "source": [
    "library(Hmisc)"
   ]
  },
  {
   "cell_type": "code",
   "execution_count": 59,
   "id": "93c8c58b",
   "metadata": {},
   "outputs": [
    {
     "name": "stderr",
     "output_type": "stream",
     "text": [
      "also installing the dependencies 'survival', 'Formula', 'latticeExtra', 'gridExtra', 'htmlTable', 'viridis'\n",
      "\n"
     ]
    },
    {
     "name": "stdout",
     "output_type": "stream",
     "text": [
      "\n",
      "  There is a binary version available but the source version is later:\n",
      "          binary source needs_compilation\n",
      "htmlTable  2.1.0  2.2.1             FALSE\n",
      "\n",
      "package 'survival' successfully unpacked and MD5 sums checked\n",
      "package 'Formula' successfully unpacked and MD5 sums checked\n",
      "package 'latticeExtra' successfully unpacked and MD5 sums checked\n",
      "package 'gridExtra' successfully unpacked and MD5 sums checked\n",
      "package 'viridis' successfully unpacked and MD5 sums checked\n",
      "package 'Hmisc' successfully unpacked and MD5 sums checked\n",
      "\n",
      "The downloaded binary packages are in\n",
      "\tC:\\Users\\Joshua\\AppData\\Local\\Temp\\Rtmp8SrS11\\downloaded_packages\n"
     ]
    },
    {
     "name": "stderr",
     "output_type": "stream",
     "text": [
      "installing the source package 'htmlTable'\n",
      "\n"
     ]
    }
   ],
   "source": [
    "install.packages(\"Hmisc\")"
   ]
  },
  {
   "cell_type": "code",
   "execution_count": 60,
   "id": "b8479b53",
   "metadata": {},
   "outputs": [
    {
     "name": "stderr",
     "output_type": "stream",
     "text": [
      "Warning message:\n",
      "\"package 'Hmisc' was built under R version 3.6.3\"Loading required package: lattice\n",
      "Loading required package: survival\n",
      "Warning message:\n",
      "\"package 'survival' was built under R version 3.6.3\"Loading required package: Formula\n",
      "Warning message:\n",
      "\"package 'Formula' was built under R version 3.6.3\"Loading required package: ggplot2\n",
      "Registered S3 methods overwritten by 'ggplot2':\n",
      "  method         from \n",
      "  [.quosures     rlang\n",
      "  c.quosures     rlang\n",
      "  print.quosures rlang\n",
      "\n",
      "Attaching package: 'Hmisc'\n",
      "\n",
      "The following objects are masked from 'package:base':\n",
      "\n",
      "    format.pval, units\n",
      "\n"
     ]
    }
   ],
   "source": [
    "library(Hmisc)"
   ]
  },
  {
   "cell_type": "code",
   "execution_count": 61,
   "id": "b5649001",
   "metadata": {},
   "outputs": [
    {
     "data": {
      "text/plain": [
       "\n",
       "Mean/Median |Differences|\n",
       "\n",
       "                             Mean    Median\n",
       "|Yi hat - median(Y hat)| 1.983447 0.8651185\n",
       "|Yi hat - Yi|            2.184563 0.5436367\n",
       "|Yi - median(Y)|         2.976277 1.0091661\n",
       "\n",
       "\n",
       "Ratios of Mean/Median |Differences|\n",
       "\n",
       "                                               Mean    Median\n",
       "|Yi hat - median(Y hat)|/|Yi - median(Y)| 0.6664189 0.8572607\n",
       "|Yi hat - Yi|/|Yi - median(Y)|            0.7339920 0.5386989"
      ]
     },
     "metadata": {},
     "output_type": "display_data"
    }
   ],
   "source": [
    "#Example\n",
    "set.seed(1)         # so can regenerate results\n",
    "x1 <- rnorm(100)\n",
    "x2 <- rnorm(100)\n",
    "y  <- exp(x1+x2+rnorm(100))\n",
    "f <- lm(log(y) ~ x1 + poly(x2,3), y=TRUE)\n",
    "abs.error.pred(lp=exp(fitted(f)), y=y)\n",
    "rm(x1,x2,y,f)"
   ]
  },
  {
   "cell_type": "code",
   "execution_count": null,
   "id": "5200efd6",
   "metadata": {},
   "outputs": [],
   "source": []
  }
 ],
 "metadata": {
  "kernelspec": {
   "display_name": "R",
   "language": "R",
   "name": "ir"
  },
  "language_info": {
   "codemirror_mode": "r",
   "file_extension": ".r",
   "mimetype": "text/x-r-source",
   "name": "R",
   "pygments_lexer": "r",
   "version": "3.6.1"
  }
 },
 "nbformat": 4,
 "nbformat_minor": 5
}
